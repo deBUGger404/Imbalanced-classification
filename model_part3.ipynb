{
 "cells": [
  {
   "cell_type": "code",
   "execution_count": 2,
   "id": "61a06904-f4e9-4a15-9d6c-93c927d2b601",
   "metadata": {},
   "outputs": [],
   "source": [
    "import tensorflow.keras.applications as models\n",
    "from Dataset import *\n",
    "import tensorflow as tf\n",
    "import random as rn\n",
    "import pandas as pd\n",
    "import numpy as np\n",
    "import os\n",
    "\n",
    "sd = 123\n",
    "np.random.seed(sd)\n",
    "rn.seed(sd)\n",
    "os.environ['PYTHONHASHSEED']=str(sd)"
   ]
  },
  {
   "cell_type": "code",
   "execution_count": 4,
   "id": "268fa72d-a6e1-4fd5-ad51-6002379037af",
   "metadata": {},
   "outputs": [
    {
     "name": "stdout",
     "output_type": "stream",
     "text": [
      "1776 (array([0.]), array([1776])) 2 43\n",
      "196 (array([0.]), array([196])) 2 43\n"
     ]
    }
   ],
   "source": [
    "batch_size = 16\n",
    "train_dt3 = data_batch(train1, cols, product = 'loose', shuffle=True, batch_size=batch_size)\n",
    "val_dt3 = data_batch(val1, cols, product = 'loose', shuffle=False, batch_size=batch_size)\n",
    "\n",
    "STEPS_PER_EPOCH = 1776 // batch_size"
   ]
  },
  {
   "cell_type": "code",
   "execution_count": 5,
   "id": "5323416e-f35c-4ef6-a711-acdaa9e05c01",
   "metadata": {},
   "outputs": [],
   "source": [
    "from sklearn.utils import class_weight\n",
    "\n",
    "class_weights = class_weight.compute_class_weight('balanced',\n",
    "                                                 classes = np.unique(train1[train1['product']==0].coarse_label),\n",
    "                                                 y = train1[train1['product']==0].coarse_label)\n",
    "class_weights = dict(zip(np.unique(train1[train1['product']==0].coarse_label), class_weights))\n",
    "a = {}\n",
    "for i in range(0,43):\n",
    "    if i in class_weights.keys(): a[i] = class_weights[i]\n",
    "    else: a[i]=0"
   ]
  },
  {
   "cell_type": "code",
   "execution_count": 6,
   "id": "a308a4c0-e69c-4dfe-b36a-acf8ebb06306",
   "metadata": {
    "tags": []
   },
   "outputs": [
    {
     "data": {
      "text/plain": [
       "(array([ 0,  1,  2,  3,  4,  5,  6,  7,  8,  9, 10, 11, 12, 13, 14, 15, 16,\n",
       "        17, 18, 28, 29, 30, 31, 32, 33, 34, 35, 36, 37, 38, 39, 40, 41, 42]),\n",
       " array([278,  41,  45,  46,  42,  31,  32, 154,  36,  57,  21,  28,  37,\n",
       "        116,  26,  22,  26,  34,  70,  16,  22,  19,  43,  28,  25,  19,\n",
       "         23,  39,  38, 112,  75,  18, 127,  30]))"
      ]
     },
     "execution_count": 6,
     "metadata": {},
     "output_type": "execute_result"
    }
   ],
   "source": [
    "np.unique(train1[train1['product']==0].coarse_label,return_counts=True)"
   ]
  },
  {
   "cell_type": "code",
   "execution_count": 7,
   "id": "baa869dc-fb4d-44b7-a585-8115e4ed96c4",
   "metadata": {
    "tags": []
   },
   "outputs": [
    {
     "data": {
      "text/plain": [
       "(array([ 0,  1,  2,  3,  4,  5,  6,  7,  9, 11, 12, 13, 14, 16, 17, 18, 28,\n",
       "        29, 30, 31, 32, 34, 35, 36, 37, 38, 39, 40, 41, 42]),\n",
       " array([22,  5,  6,  5,  5,  5,  3, 20,  5,  5,  5,  5,  5,  5,  5,  5,  5,\n",
       "         4,  5,  5,  5,  4,  4,  5,  5, 15, 10,  5,  8,  5]))"
      ]
     },
     "execution_count": 7,
     "metadata": {},
     "output_type": "execute_result"
    }
   ],
   "source": [
    "np.unique(val1[val1['product']==0].coarse_label,return_counts=True)"
   ]
  },
  {
   "cell_type": "code",
   "execution_count": 10,
   "id": "597f7678-ef91-4d33-92fd-dd1b73881738",
   "metadata": {
    "tags": []
   },
   "outputs": [
    {
     "data": {
      "text/plain": [
       "(array([ 0,  1,  2,  3,  4,  5,  6,  7,  8,  9, 10, 11, 12, 13, 14, 15, 16,\n",
       "        17, 18, 28, 29, 30, 31, 32, 33, 34, 35, 36, 37, 38, 39, 40, 41, 42]),\n",
       " array([276,  40,  44,  45,  41,  30,  31, 153,  35,  56,  21,  27,  36,\n",
       "        108,  25,  22,  25,  34,  68,  14,  22,  19,  42,  27,  25,  15,\n",
       "         21,  39,  37, 110,  70,  17, 100,  29]))"
      ]
     },
     "execution_count": 10,
     "metadata": {},
     "output_type": "execute_result"
    }
   ],
   "source": [
    "np.unique(test1[test1['product']==0].coarse_label,return_counts=True)"
   ]
  },
  {
   "cell_type": "code",
   "execution_count": 19,
   "id": "51c64de7-fd23-4763-83db-57062d4932b6",
   "metadata": {},
   "outputs": [
    {
     "name": "stdout",
     "output_type": "stream",
     "text": [
      "Epoch 1/20\n",
      "111/111 [==============================] - 6s 49ms/step - loss: 0.3516 - accuracy: 0.8851 - val_loss: 0.9560 - val_accuracy: 0.6939\n",
      "Epoch 2/20\n",
      "111/111 [==============================] - 6s 50ms/step - loss: 0.3370 - accuracy: 0.8958 - val_loss: 0.9694 - val_accuracy: 0.7143\n",
      "Epoch 3/20\n",
      "111/111 [==============================] - 6s 50ms/step - loss: 0.3295 - accuracy: 0.8998 - val_loss: 0.9587 - val_accuracy: 0.7398\n",
      "Epoch 4/20\n",
      "111/111 [==============================] - 6s 50ms/step - loss: 0.2944 - accuracy: 0.9105 - val_loss: 0.9635 - val_accuracy: 0.7398\n"
     ]
    }
   ],
   "source": [
    "# simple classifier\n",
    "model2 = tf.keras.Sequential(\n",
    "      [\n",
    "        tf.keras.layers.Input(shape=(224,224,3,)),\n",
    "        tf.keras.layers.Conv2D(filters=14, kernel_size=3, padding='same'),\n",
    "        tf.keras.layers.Activation('relu'),\n",
    "        tf.keras.layers.Flatten(),\n",
    "        tf.keras.layers.Dense(64),\n",
    "        tf.keras.layers.Activation('relu'),\n",
    "        tf.keras.layers.Dense(43, activation='softmax')\n",
    "      ])\n",
    "\n",
    "\n",
    "model2.compile(optimizer='adam',loss='categorical_crossentropy',metrics=['accuracy'])\n",
    "\n",
    "es3 = tf.keras.callbacks.EarlyStopping(monitor='val_loss',patience=3,restore_best_weights=True)\n",
    "reduce_lr = tf.keras.callbacks.ReduceLROnPlateau(monitor='val_loss', factor=0.1,\n",
    "                                  patience=2, min_lr=0.0000001)\n",
    "history2 = model3.fit(train_dt3,steps_per_epoch = STEPS_PER_EPOCH,epochs =20,\n",
    "                      validation_data=val_dt3,verbose=1,callbacks=[es3])"
   ]
  },
  {
   "cell_type": "code",
   "execution_count": 20,
   "id": "894d1317-c52d-4219-ad2c-8470bdb0d749",
   "metadata": {},
   "outputs": [
    {
     "data": {
      "image/png": "[encoded data removed]",
      "text/plain": [
       "<Figure size 432x288 with 1 Axes>"
      ]
     },
     "metadata": {
      "needs_background": "light"
     },
     "output_type": "display_data"
    }
   ],
   "source": [
    "import matplotlib.pyplot as plt\n",
    "\n",
    "plt.plot(history3.history['loss'])\n",
    "plt.plot(history3.history['val_loss'])\n",
    "plt.title('model accuracy')\n",
    "plt.ylabel('accuracy')\n",
    "plt.xlabel('epoch')\n",
    "plt.legend(['train', 'val'], loc='upper left')\n",
    "plt.show()"
   ]
  },
  {
   "cell_type": "code",
   "execution_count": 34,
   "id": "dddfcd1f-c798-4021-99e1-2293503b16a4",
   "metadata": {},
   "outputs": [],
   "source": [
    "\n",
    "data_augmentation = tf.keras.Sequential([\n",
    "  tf.keras.layers.RandomFlip(\"horizontal\"),\n",
    "  tf.keras.layers.RandomRotation(0.4),\n",
    "])"
   ]
  },
  {
   "cell_type": "code",
   "execution_count": 35,
   "id": "97b01452-261a-4e9e-8949-6b3f5167fd65",
   "metadata": {},
   "outputs": [],
   "source": [
    "import tensorflow.keras.applications as models\n",
    "def model_fn3(input_shape, output_shape):\n",
    "    vgg16 = models.inception_v3.InceptionV3(weights='imagenet', include_top=False,input_shape=input_shape)\n",
    "    vgg16.trainable = False\n",
    "    input1 = tf.keras.Input(shape=(224,224,3))\n",
    "    x1 = data_augmentation(input1)\n",
    "    x1 = vgg16(x1)\n",
    "    x1 = tf.keras.layers.GlobalAveragePooling2D()(x1)\n",
    "    x1 = tf.keras.layers.Dense(512, activation='relu')(x1)\n",
    "    x1 = tf.keras.layers.Dropout(0.4)(x1)\n",
    "    out_all = tf.keras.layers.Dense(output_shape, activation='softmax')(x1)\n",
    "    model = tf.keras.Model(input1, outputs=out_all)\n",
    "    return model\n",
    "model3 = model_fn3(input_shape = (224,224,3), output_shape = 43)"
   ]
  },
  {
   "cell_type": "code",
   "execution_count": 36,
   "id": "6c7c47ad-5c02-484b-8ae6-01fa732d4c30",
   "metadata": {},
   "outputs": [
    {
     "name": "stdout",
     "output_type": "stream",
     "text": [
      "Epoch 1/60\n",
      "111/111 [==============================] - 13s 65ms/step - loss: 3.2287 - accuracy: 0.1633 - val_loss: 2.3491 - val_accuracy: 0.3724\n",
      "Epoch 2/60\n",
      "111/111 [==============================] - 6s 51ms/step - loss: 1.8965 - accuracy: 0.4032 - val_loss: 1.8236 - val_accuracy: 0.4694\n",
      "Epoch 3/60\n",
      "111/111 [==============================] - 6s 51ms/step - loss: 1.4268 - accuracy: 0.5096 - val_loss: 1.5283 - val_accuracy: 0.5408\n",
      "Epoch 4/60\n",
      "111/111 [==============================] - 6s 51ms/step - loss: 1.1100 - accuracy: 0.5968 - val_loss: 1.3183 - val_accuracy: 0.6327\n",
      "Epoch 5/60\n",
      "111/111 [==============================] - 6s 51ms/step - loss: 0.9418 - accuracy: 0.6425 - val_loss: 1.2796 - val_accuracy: 0.6071\n",
      "Epoch 6/60\n",
      "111/111 [==============================] - 6s 51ms/step - loss: 0.8236 - accuracy: 0.6768 - val_loss: 1.2509 - val_accuracy: 0.5867\n",
      "Epoch 7/60\n",
      "111/111 [==============================] - 6s 51ms/step - loss: 0.7473 - accuracy: 0.6971 - val_loss: 1.1762 - val_accuracy: 0.6276\n",
      "Epoch 8/60\n",
      "111/111 [==============================] - 6s 50ms/step - loss: 0.6855 - accuracy: 0.7309 - val_loss: 1.1366 - val_accuracy: 0.6735\n",
      "Epoch 9/60\n",
      "111/111 [==============================] - 6s 50ms/step - loss: 0.6089 - accuracy: 0.7404 - val_loss: 1.1269 - val_accuracy: 0.6684\n",
      "Epoch 10/60\n",
      "111/111 [==============================] - 6s 50ms/step - loss: 0.5470 - accuracy: 0.7641 - val_loss: 1.1103 - val_accuracy: 0.6378\n",
      "Epoch 11/60\n",
      "111/111 [==============================] - 6s 50ms/step - loss: 0.4804 - accuracy: 0.7776 - val_loss: 1.0428 - val_accuracy: 0.6684\n",
      "Epoch 12/60\n",
      "111/111 [==============================] - 6s 50ms/step - loss: 0.4670 - accuracy: 0.7995 - val_loss: 1.0536 - val_accuracy: 0.6837\n",
      "Epoch 13/60\n",
      "111/111 [==============================] - 5s 50ms/step - loss: 0.4191 - accuracy: 0.8097 - val_loss: 1.0224 - val_accuracy: 0.6990\n",
      "Epoch 14/60\n",
      "111/111 [==============================] - 6s 50ms/step - loss: 0.4222 - accuracy: 0.8041 - val_loss: 1.0792 - val_accuracy: 0.6786\n",
      "Epoch 15/60\n",
      "111/111 [==============================] - 6s 50ms/step - loss: 0.4302 - accuracy: 0.8164 - val_loss: 1.0403 - val_accuracy: 0.7245\n",
      "Epoch 16/60\n",
      "111/111 [==============================] - 6s 50ms/step - loss: 0.3938 - accuracy: 0.8238 - val_loss: 0.9844 - val_accuracy: 0.7245\n",
      "Epoch 17/60\n",
      "111/111 [==============================] - 5s 50ms/step - loss: 0.3618 - accuracy: 0.8215 - val_loss: 0.9923 - val_accuracy: 0.6888\n",
      "Epoch 18/60\n",
      "111/111 [==============================] - 5s 49ms/step - loss: 0.3276 - accuracy: 0.8457 - val_loss: 1.0104 - val_accuracy: 0.6939\n",
      "Epoch 19/60\n",
      "111/111 [==============================] - 5s 49ms/step - loss: 0.3426 - accuracy: 0.8435 - val_loss: 1.0189 - val_accuracy: 0.6990\n"
     ]
    }
   ],
   "source": [
    "model3.compile(optimizer=tf.keras.optimizers.Adam(0.0001),\n",
    "                  loss='categorical_crossentropy',metrics=['accuracy'])\n",
    "es3 = tf.keras.callbacks.EarlyStopping(monitor='val_loss',patience=3,restore_best_weights=True)\n",
    "reduce_lr = tf.keras.callbacks.ReduceLROnPlateau(monitor='val_loss', factor=0.1,\n",
    "                                  patience=2, min_lr=0.0000001)\n",
    "history3 = model3.fit(train_dt3,steps_per_epoch = STEPS_PER_EPOCH,epochs =60,\n",
    "                      validation_data=val_dt3,verbose=1,callbacks=[es3], class_weight=a)"
   ]
  },
  {
   "cell_type": "code",
   "execution_count": 37,
   "id": "3719a637-9949-454f-b16e-cb6c269f4908",
   "metadata": {},
   "outputs": [
    {
     "data": {
      "image/png": "[encoded data removed]",
      "text/plain": [
       "<Figure size 432x288 with 1 Axes>"
      ]
     },
     "metadata": {
      "needs_background": "light"
     },
     "output_type": "display_data"
    }
   ],
   "source": [
    "import matplotlib.pyplot as plt\n",
    "\n",
    "plt.plot(history3.history['loss'])\n",
    "plt.plot(history3.history['val_loss'])\n",
    "plt.title('model accuracy')\n",
    "plt.ylabel('accuracy')\n",
    "plt.xlabel('epoch')\n",
    "plt.legend(['train', 'val'], loc='upper left')\n",
    "plt.show()"
   ]
  },
  {
   "cell_type": "code",
   "execution_count": 38,
   "id": "42ac309a-340a-46ee-8a77-f9948197da71",
   "metadata": {},
   "outputs": [
    {
     "name": "stdout",
     "output_type": "stream",
     "text": [
      "1704 (array([0.]), array([1704])) 2 43\n"
     ]
    },
    {
     "data": {
      "text/plain": [
       "((1704,), (1704,))"
      ]
     },
     "execution_count": 38,
     "metadata": {},
     "output_type": "execute_result"
    }
   ],
   "source": [
    "test_dt3 = data_batch(test1, cols, product = 'loose', shuffle=False, batch_size=1)\n",
    "\n",
    "y_pred3 = model3.predict(test_dt3)\n",
    "y_pred4 = np.argmax(y_pred3, axis=-1)\n",
    "y_true2 = np.array([int(np.argmax(y.numpy()[0], axis=-1)) for x,y in test_dt3])\n",
    "y_pred4.shape,y_true2.shape"
   ]
  },
  {
   "cell_type": "code",
   "execution_count": 39,
   "id": "3840ca32-0a22-498f-8677-6c9f755f0652",
   "metadata": {},
   "outputs": [
    {
     "name": "stdout",
     "output_type": "stream",
     "text": [
      "0.6953693376627688 0.6917978518581641 0.6769710312135028 0.7083333333333334\n"
     ]
    },
    {
     "data": {
      "text/plain": [
       "array([[220,   1,   0, ...,   0,   9,   0],\n",
       "       [  1,  25,   0, ...,   0,   1,   0],\n",
       "       [  0,   1,  44, ...,   0,   0,   0],\n",
       "       ...,\n",
       "       [  0,   0,   0, ...,  14,   0,   0],\n",
       "       [  9,   0,   0, ...,   0,  81,   0],\n",
       "       [  0,   0,   0, ...,   0,   0,  28]])"
      ]
     },
     "execution_count": 39,
     "metadata": {},
     "output_type": "execute_result"
    }
   ],
   "source": [
    "from sklearn.metrics import confusion_matrix,f1_score,precision_score, recall_score, accuracy_score\n",
    "\n",
    "pre = precision_score(y_true2,y_pred4, average='macro')\n",
    "rec = recall_score(y_true2,y_pred4, average='macro')\n",
    "f_score = f1_score(y_true2,y_pred4, average='macro')\n",
    "acc = accuracy_score(y_true2,y_pred4)\n",
    "print(pre, rec, f_score, acc)\n",
    "\n",
    "confusion_matrix(y_pred4,y_true2)"
   ]
  },
  {
   "cell_type": "code",
   "execution_count": 40,
   "id": "1629c92b-cbb7-4f63-abf0-1c8afc85a4bd",
   "metadata": {},
   "outputs": [],
   "source": [
    "tf.keras.models.save_model(model3,'part3.h5')"
   ]
  },
  {
   "cell_type": "code",
   "execution_count": null,
   "id": "3a19d14a-86ae-443b-97b5-06b589f6ae64",
   "metadata": {},
   "outputs": [],
   "source": []
  }
 ],
 "metadata": {
  "environment": {
   "name": "tf2-gpu.2-6.m81",
   "type": "gcloud",
   "uri": "gcr.io/deeplearning-platform-release/tf2-gpu.2-6:m81"
  },
  "kernelspec": {
   "display_name": "Python 3",
   "language": "python",
   "name": "python3"
  },
  "language_info": {
   "codemirror_mode": {
    "name": "ipython",
    "version": 3
   },
   "file_extension": ".py",
   "mimetype": "text/x-python",
   "name": "python",
   "nbconvert_exporter": "python",
   "pygments_lexer": "ipython3",
   "version": "3.7.10"
  }
 },
 "nbformat": 4,
 "nbformat_minor": 5
}
