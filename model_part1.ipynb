{
 "cells": [
  {
   "cell_type": "code",
   "execution_count": 1,
   "id": "dc1d0c7e-6757-4f2f-a6bd-a92871afa7f4",
   "metadata": {},
   "outputs": [
    {
     "name": "stderr",
     "output_type": "stream",
     "text": [
      "2022-04-03 08:56:43.818439: I tensorflow/stream_executor/cuda/cuda_gpu_executor.cc:937] successful NUMA node read from SysFS had negative value (-1), but there must be at least one NUMA node, so returning NUMA node zero\n",
      "2022-04-03 08:56:43.828481: I tensorflow/stream_executor/cuda/cuda_gpu_executor.cc:937] successful NUMA node read from SysFS had negative value (-1), but there must be at least one NUMA node, so returning NUMA node zero\n",
      "2022-04-03 08:56:43.829168: I tensorflow/stream_executor/cuda/cuda_gpu_executor.cc:937] successful NUMA node read from SysFS had negative value (-1), but there must be at least one NUMA node, so returning NUMA node zero\n"
     ]
    },
    {
     "name": "stdout",
     "output_type": "stream",
     "text": [
      "Num GPUs Available:  1\n"
     ]
    },
    {
     "name": "stderr",
     "output_type": "stream",
     "text": [
      "/opt/conda/lib/python3.7/site-packages/sklearn/utils/deprecation.py:87: FutureWarning: Function get_feature_names is deprecated; get_feature_names is deprecated in 1.0 and will be removed in 1.2. Please use get_feature_names_out instead.\n",
      "  warnings.warn(msg, category=FutureWarning)\n",
      "/opt/conda/lib/python3.7/site-packages/sklearn/utils/deprecation.py:87: FutureWarning: Function get_feature_names is deprecated; get_feature_names is deprecated in 1.0 and will be removed in 1.2. Please use get_feature_names_out instead.\n",
      "  warnings.warn(msg, category=FutureWarning)\n",
      "/opt/conda/lib/python3.7/site-packages/sklearn/utils/deprecation.py:87: FutureWarning: Function get_feature_names is deprecated; get_feature_names is deprecated in 1.0 and will be removed in 1.2. Please use get_feature_names_out instead.\n",
      "  warnings.warn(msg, category=FutureWarning)\n"
     ]
    }
   ],
   "source": [
    "import tensorflow.keras.applications as models\n",
    "from Dataset import *\n",
    "import tensorflow as tf\n",
    "import random as rn\n",
    "import pandas as pd\n",
    "import numpy as np\n",
    "import os\n",
    "\n",
    "#for reproducing results again"
    "sd = 123\n",
    "np.random.seed(sd)\n",
    "rn.seed(sd)\n",
    "os.environ['PYTHONHASHSEED']=str(sd)"
   ]
  },
  {
   "cell_type": "code",
   "execution_count": 2,
   "id": "7cad7629-0212-46d2-abc8-eab43f6dc019",
   "metadata": {},
   "outputs": [
    {
     "name": "stdout",
     "output_type": "stream",
     "text": [
      "2640 (array([0., 1.]), array([1776,  864])) 2 43\n",
      "296 (array([0., 1.]), array([196, 100])) 2 43\n"
     ]
    },
    {
     "name": "stderr",
     "output_type": "stream",
     "text": [
      "2022-04-03 08:56:45.613809: I tensorflow/core/platform/cpu_feature_guard.cc:142] This TensorFlow binary is optimized with oneAPI Deep Neural Network Library (oneDNN) to use the following CPU instructions in performance-critical operations:  AVX2 FMA\n",
      "To enable them in other operations, rebuild TensorFlow with the appropriate compiler flags.\n",
      "2022-04-03 08:56:45.615693: I tensorflow/stream_executor/cuda/cuda_gpu_executor.cc:937] successful NUMA node read from SysFS had negative value (-1), but there must be at least one NUMA node, so returning NUMA node zero\n",
      "2022-04-03 08:56:45.616483: I tensorflow/stream_executor/cuda/cuda_gpu_executor.cc:937] successful NUMA node read from SysFS had negative value (-1), but there must be at least one NUMA node, so returning NUMA node zero\n",
      "2022-04-03 08:56:45.617043: I tensorflow/stream_executor/cuda/cuda_gpu_executor.cc:937] successful NUMA node read from SysFS had negative value (-1), but there must be at least one NUMA node, so returning NUMA node zero\n",
      "2022-04-03 08:56:46.117541: I tensorflow/stream_executor/cuda/cuda_gpu_executor.cc:937] successful NUMA node read from SysFS had negative value (-1), but there must be at least one NUMA node, so returning NUMA node zero\n",
      "2022-04-03 08:56:46.118233: I tensorflow/stream_executor/cuda/cuda_gpu_executor.cc:937] successful NUMA node read from SysFS had negative value (-1), but there must be at least one NUMA node, so returning NUMA node zero\n",
      "2022-04-03 08:56:46.118843: I tensorflow/stream_executor/cuda/cuda_gpu_executor.cc:937] successful NUMA node read from SysFS had negative value (-1), but there must be at least one NUMA node, so returning NUMA node zero\n",
      "2022-04-03 08:56:46.119422: I tensorflow/core/common_runtime/gpu/gpu_device.cc:1510] Created device /job:localhost/replica:0/task:0/device:GPU:0 with 13839 MB memory:  -> device: 0, name: Tesla T4, pci bus id: 0000:00:04.0, compute capability: 7.5\n"
     ]
    }
   ],
   "source": [
    "batch_size = 16\n",
    "train_dt = data_batch(train1, cols, product = 'all', shuffle=True, batch_size=batch_size)\n",
    "val_dt = data_batch(val1, cols, product = 'all', shuffle=None, batch_size=batch_size)\n",
    "STEPS_PER_EPOCH = 2640 // batch_size"
   ]
  },
  {
   "cell_type": "code",
   "execution_count": 3,
   "id": "33eb0c8e-308b-4494-b278-fe500c2a979e",
   "metadata": {},
   "outputs": [],
   "source": [
    "def model_fn(input_shape, output_shape):\n",
    "    vgg16 = models.vgg16.VGG16(weights='imagenet', include_top=False,input_shape=input_shape)\n",
    "    vgg16.trainable = False\n",
    "    input1 = tf.keras.Input(shape=(224,224,3))\n",
    "    x1 = vgg16(input1)\n",
    "    x1 = tf.keras.layers.GlobalAveragePooling2D()(x1)\n",
    "    x1.shape\n",
    "    out_all = tf.keras.layers.Dense(output_shape, activation='softmax')(x1)\n",
    "    model = tf.keras.Model(input1, outputs=out_all)\n",
    "    return model"
   ]
  },
  {
   "cell_type": "code",
   "execution_count": 4,
   "id": "0beb3316-d990-48cc-bf1e-942fbbff25e0",
   "metadata": {},
   "outputs": [
    {
     "name": "stdout",
     "output_type": "stream",
     "text": [
      "Epoch 1/10\n"
     ]
    },
    {
     "name": "stderr",
     "output_type": "stream",
     "text": [
      "2022-04-03 08:56:49.109799: I tensorflow/compiler/mlir/mlir_graph_optimization_pass.cc:185] None of the MLIR Optimization Passes are enabled (registered 2)\n",
      "2022-04-03 08:56:51.006638: I tensorflow/stream_executor/cuda/cuda_dnn.cc:369] Loaded cuDNN version 8005\n"
     ]
    },
    {
     "name": "stdout",
     "output_type": "stream",
     "text": [
      "165/165 [==============================] - 23s 97ms/step - loss: 0.3657 - accuracy: 0.9053 - val_loss: 0.2279 - val_accuracy: 0.9899\n",
      "Epoch 2/10\n",
      "165/165 [==============================] - 13s 81ms/step - loss: 0.1463 - accuracy: 0.9913 - val_loss: 0.1412 - val_accuracy: 0.9865\n",
      "Epoch 3/10\n",
      "165/165 [==============================] - 13s 78ms/step - loss: 0.0937 - accuracy: 0.9905 - val_loss: 0.1080 - val_accuracy: 0.9899\n",
      "Epoch 4/10\n",
      "165/165 [==============================] - 12s 76ms/step - loss: 0.0699 - accuracy: 0.9924 - val_loss: 0.0894 - val_accuracy: 0.9899\n",
      "Epoch 5/10\n",
      "165/165 [==============================] - 12s 76ms/step - loss: 0.0558 - accuracy: 0.9932 - val_loss: 0.0783 - val_accuracy: 0.9865\n",
      "Epoch 6/10\n",
      "165/165 [==============================] - 13s 77ms/step - loss: 0.0467 - accuracy: 0.9928 - val_loss: 0.0724 - val_accuracy: 0.9865\n",
      "Epoch 7/10\n",
      "165/165 [==============================] - 13s 78ms/step - loss: 0.0403 - accuracy: 0.9947 - val_loss: 0.0673 - val_accuracy: 0.9831\n",
      "Epoch 8/10\n",
      "165/165 [==============================] - 13s 78ms/step - loss: 0.0351 - accuracy: 0.9951 - val_loss: 0.0578 - val_accuracy: 0.9899\n",
      "Epoch 9/10\n",
      "165/165 [==============================] - 13s 78ms/step - loss: 0.0313 - accuracy: 0.9955 - val_loss: 0.0552 - val_accuracy: 0.9865\n",
      "Epoch 10/10\n",
      "165/165 [==============================] - 13s 77ms/step - loss: 0.0282 - accuracy: 0.9958 - val_loss: 0.0572 - val_accuracy: 0.9831\n"
     ]
    }
   ],
   "source": [
    "model1 = model_fn(input_shape = (224,224,3), output_shape = 2)\n",
    "model1.compile(optimizer=tf.keras.optimizers.Adam(0.001),\n",
    "                  loss='binary_crossentropy',metrics=['accuracy'])\n",
    "es1 = tf.keras.callbacks.EarlyStopping(monitor='val_loss',patience=3)\n",
    "history1 = model1.fit(train_dt,steps_per_epoch = STEPS_PER_EPOCH,epochs =10,\n",
    "                    validation_data=val_dt,verbose=1,callbacks=[es1])"
   ]
  },
  {
   "cell_type": "code",
   "execution_count": 5,
   "id": "eed63548-c46f-4fc4-ad3d-798cd4bd3949",
   "metadata": {},
   "outputs": [
    {
     "data": {
      "image/png": "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\n",
      "text/plain": [
       "<Figure size 432x288 with 1 Axes>"
      ]
     },
     "metadata": {
      "needs_background": "light"
     },
     "output_type": "display_data"
    }
   ],
   "source": [
    "import matplotlib.pyplot as plt\n",
    "\n",
    "plt.plot(history1.history['loss'])\n",
    "plt.plot(history1.history['val_loss'])\n",
    "plt.title('model accuracy')\n",
    "plt.ylabel('accuracy')\n",
    "plt.xlabel('epoch')\n",
    "plt.legend(['train', 'val'], loc='upper left')\n",
    "plt.show()"
   ]
  },
  {
   "cell_type": "code",
   "execution_count": 14,
   "id": "93a85e71-990c-47a9-bb4e-e1d9619e2b7f",
   "metadata": {},
   "outputs": [],
   "source": [
    "tf.keras.models.save_model(model1,'part1.h5')"
   ]
  },
  {
   "cell_type": "code",
   "execution_count": 9,
   "id": "50ab3117-e54f-4e7d-9f8c-f79c88f19337",
   "metadata": {},
   "outputs": [
    {
     "name": "stdout",
     "output_type": "stream",
     "text": [
      "2485 (array([0., 1.]), array([1704,  781])) 2 43\n"
     ]
    }
   ],
   "source": [
    "from sklearn.metrics import confusion_matrix,f1_score,precision_score, recall_score, accuracy_score\n",
    "\n",
    "test_dt = data_batch(test1, cols, product = 'all', shuffle=False, batch_size=1)"
   ]
  },
  {
   "cell_type": "code",
   "execution_count": 10,
   "id": "2d368c95-73d3-438e-aeba-4178a7d61710",
   "metadata": {},
   "outputs": [],
   "source": [
    "y_pred = model1.predict(test_dt)\n",
    "y_pred1 = np.argmax(y_pred, axis=-1)\n",
    "y_true = np.array([int(np.argmax(y.numpy()[0], axis=-1)) for x,y in test_dt])"
   ]
  },
  {
   "cell_type": "code",
   "execution_count": 11,
   "id": "fcb9c2e8-41ff-48d9-82f7-a79f5a680cee",
   "metadata": {},
   "outputs": [
    {
     "data": {
      "text/plain": [
       "((2485,), (2485,))"
      ]
     },
     "execution_count": 11,
     "metadata": {},
     "output_type": "execute_result"
    }
   ],
   "source": [
    "y_pred1.squeeze().shape,y_true.shape"
   ]
  },
  {
   "cell_type": "code",
   "execution_count": 12,
   "id": "184c827f-04c8-49db-80bb-29b64ed8d4ca",
   "metadata": {},
   "outputs": [
    {
     "name": "stdout",
     "output_type": "stream",
     "text": [
      "0.9861111111111112 1.0 0.993006993006993 0.9955734406438632\n"
     ]
    }
   ],
   "source": [
    "pre = precision_score(y_true,y_pred1, zero_division=0)\n",
    "rec = recall_score(y_true,y_pred1, zero_division=0)\n",
    "f_score = f1_score(y_true,y_pred1, zero_division=0)\n",
    "acc = accuracy_score(y_true,y_pred1)\n",
    "print(pre, rec, f_score, acc)"
   ]
  },
  {
   "cell_type": "code",
   "execution_count": 13,
   "id": "ca59e9f6-081b-4a68-a091-5274be21f2f5",
   "metadata": {},
   "outputs": [
    {
     "data": {
      "text/plain": [
       "array([[1693,    0],\n",
       "       [  11,  781]])"
      ]
     },
     "execution_count": 13,
     "metadata": {},
     "output_type": "execute_result"
    }
   ],
   "source": [
    "confusion_matrix(y_pred1,y_true)"
   ]
  },
  {
   "cell_type": "code",
   "execution_count": null,
   "id": "a081f365-d410-4113-8519-2accceb28350",
   "metadata": {},
   "outputs": [],
   "source": []
  }
 ],
 "metadata": {
  "environment": {
   "name": "tf2-gpu.2-6.m81",
   "type": "gcloud",
   "uri": "gcr.io/deeplearning-platform-release/tf2-gpu.2-6:m81"
  },
  "kernelspec": {
   "display_name": "Python 3",
   "language": "python",
   "name": "python3"
  },
  "language_info": {
   "codemirror_mode": {
    "name": "ipython",
    "version": 3
   },
   "file_extension": ".py",
   "mimetype": "text/x-python",
   "name": "python",
   "nbconvert_exporter": "python",
   "pygments_lexer": "ipython3",
   "version": "3.7.10"
  }
 },
 "nbformat": 4,
 "nbformat_minor": 5
}
