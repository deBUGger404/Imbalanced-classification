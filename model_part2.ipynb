{
 "cells": [
  {
   "cell_type": "code",
   "execution_count": 1,
   "id": "dc1d0c7e-6757-4f2f-a6bd-a92871afa7f4",
   "metadata": {},
   "outputs": [
    {
     "name": "stderr",
     "output_type": "stream",
     "text": [
      "2022-04-03 11:40:35.090335: I tensorflow/stream_executor/cuda/cuda_gpu_executor.cc:937] successful NUMA node read from SysFS had negative value (-1), but there must be at least one NUMA node, so returning NUMA node zero\n",
      "2022-04-03 11:40:35.100085: I tensorflow/stream_executor/cuda/cuda_gpu_executor.cc:937] successful NUMA node read from SysFS had negative value (-1), but there must be at least one NUMA node, so returning NUMA node zero\n",
      "2022-04-03 11:40:35.100766: I tensorflow/stream_executor/cuda/cuda_gpu_executor.cc:937] successful NUMA node read from SysFS had negative value (-1), but there must be at least one NUMA node, so returning NUMA node zero\n"
     ]
    },
    {
     "name": "stdout",
     "output_type": "stream",
     "text": [
      "Num GPUs Available:  1\n"
     ]
    },
    {
     "name": "stderr",
     "output_type": "stream",
     "text": [
      "/opt/conda/lib/python3.7/site-packages/sklearn/utils/deprecation.py:87: FutureWarning: Function get_feature_names is deprecated; get_feature_names is deprecated in 1.0 and will be removed in 1.2. Please use get_feature_names_out instead.\n",
      "  warnings.warn(msg, category=FutureWarning)\n",
      "/opt/conda/lib/python3.7/site-packages/sklearn/utils/deprecation.py:87: FutureWarning: Function get_feature_names is deprecated; get_feature_names is deprecated in 1.0 and will be removed in 1.2. Please use get_feature_names_out instead.\n",
      "  warnings.warn(msg, category=FutureWarning)\n",
      "/opt/conda/lib/python3.7/site-packages/sklearn/utils/deprecation.py:87: FutureWarning: Function get_feature_names is deprecated; get_feature_names is deprecated in 1.0 and will be removed in 1.2. Please use get_feature_names_out instead.\n",
      "  warnings.warn(msg, category=FutureWarning)\n"
     ]
    }
   ],
   "source": [
    "import tensorflow.keras.applications as models\n",
    "from Dataset import *\n",
    "import tensorflow as tf\n",
    "import random as rn\n",
    "import pandas as pd\n",
    "import numpy as np\n",
    "import os\n",
    "\n",
    "sd = 123\n",
    "np.random.seed(sd)\n",
    "rn.seed(sd)\n",
    "os.environ['PYTHONHASHSEED']=str(sd)"
   ]
  },
  {
   "cell_type": "code",
   "execution_count": 19,
   "id": "7cad7629-0212-46d2-abc8-eab43f6dc019",
   "metadata": {},
   "outputs": [
    {
     "name": "stdout",
     "output_type": "stream",
     "text": [
      "864 (array([1.]), array([864])) 2 43\n",
      "100 (array([1.]), array([100])) 2 43\n"
     ]
    }
   ],
   "source": [
    "batch_size = 16\n",
    "train_dt1 = data_batch(train1, cols, product = 'packages', shuffle=True, batch_size=batch_size)\n",
    "val_dt1 = data_batch(val1, cols, product = 'packages', shuffle=False, batch_size=batch_size)\n",
    "\n",
    "STEPS_PER_EPOCH = 864 // batch_size"
   ]
  },
  {
   "cell_type": "code",
   "execution_count": 20,
   "id": "33eb0c8e-308b-4494-b278-fe500c2a979e",
   "metadata": {},
   "outputs": [],
   "source": [
    "from sklearn.utils import class_weight\n",
    "\n",
    "class_weights = class_weight.compute_class_weight('balanced',\n",
    "                                                 classes = np.unique(train1[train1['product']==1].coarse_label),\n",
    "                                                 y = train1[train1['product']==1].coarse_label)\n",
    "class_weights = dict(zip(np.unique(train1[train1['product']==1].coarse_label), class_weights))\n",
    "a = {}\n",
    "for i in range(0,43):\n",
    "    if i in class_weights.keys(): a[i] = class_weights[i]\n",
    "    else: a[i]=0"
   ]
  },
  {
   "cell_type": "code",
   "execution_count": 21,
   "id": "0beb3316-d990-48cc-bf1e-942fbbff25e0",
   "metadata": {},
   "outputs": [
    {
     "data": {
      "text/plain": [
       "(array([19, 20, 21, 22, 23, 24, 25, 26, 27]),\n",
       " array([247, 182,  33,  32,  48,  30,  51,  60, 181]))"
      ]
     },
     "execution_count": 21,
     "metadata": {},
     "output_type": "execute_result"
    }
   ],
   "source": [
    "np.unique(train1[train1['product']==1].coarse_label,return_counts=True)"
   ]
  },
  {
   "cell_type": "code",
   "execution_count": 22,
   "id": "4c76093b-10ce-466f-848c-d65b8f2d7dcb",
   "metadata": {},
   "outputs": [
    {
     "data": {
      "text/plain": [
       "(array([19, 20, 21, 22, 23, 25, 27]), array([29, 26,  5,  5,  5, 10, 20]))"
      ]
     },
     "execution_count": 22,
     "metadata": {},
     "output_type": "execute_result"
    }
   ],
   "source": [
    "np.unique(val1[val1['product']==1].coarse_label,return_counts=True)"
   ]
  },
  {
   "cell_type": "code",
   "execution_count": 23,
   "id": "6f1be7b7-8b30-4ace-bb8f-137d18a04728",
   "metadata": {},
   "outputs": [
    {
     "data": {
      "text/plain": [
       "(array([19, 20, 21, 22, 23, 24, 25, 26, 27]),\n",
       " array([219, 164,  30,  31,  41,  19,  47,  58, 172]))"
      ]
     },
     "execution_count": 23,
     "metadata": {},
     "output_type": "execute_result"
    }
   ],
   "source": [
    "np.unique(test1[test1['product']==1].coarse_label,return_counts=True)"
   ]
  },
  {
   "cell_type": "code",
   "execution_count": 24,
   "id": "8fc3ec5a-877f-4dfa-9a43-0d7fe40abd87",
   "metadata": {},
   "outputs": [],
   "source": [
    "import tensorflow.keras.applications as models\n",
    "def model_fn2(input_shape, output_shape):\n",
    "    vgg16 = models.inception_v3.InceptionV3(weights='imagenet', include_top=False,input_shape=input_shape)\n",
    "    vgg16.trainable = True\n",
    "    input1 = tf.keras.Input(shape=(224,224,3))\n",
    "    # x1 = tf.keras.applications.vgg16.preprocess_input(input1)\n",
    "    x1 = vgg16(input1)\n",
    "    x1 = tf.keras.layers.GlobalAveragePooling2D()(x1)\n",
    "    out_all = tf.keras.layers.Dense(output_shape, activation='softmax')(x1)\n",
    "    model = tf.keras.Model(input1, outputs=out_all)\n",
    "    return model\n",
    "model2 = model_fn2(input_shape = (224,224,3), output_shape = 43)"
   ]
  },
  {
   "cell_type": "code",
   "execution_count": 25,
   "id": "9abbf751-5fa6-4192-b897-0ef96bd649c0",
   "metadata": {},
   "outputs": [
    {
     "name": "stdout",
     "output_type": "stream",
     "text": [
      "Epoch 1/20\n",
      "54/54 [==============================] - 18s 167ms/step - loss: 1.6017 - accuracy: 0.5509 - val_loss: 1.3690 - val_accuracy: 0.5500\n",
      "Epoch 2/20\n",
      "54/54 [==============================] - 8s 146ms/step - loss: 0.1184 - accuracy: 0.9769 - val_loss: 0.8213 - val_accuracy: 0.7100\n",
      "Epoch 3/20\n",
      "54/54 [==============================] - 8s 148ms/step - loss: 0.0478 - accuracy: 0.9942 - val_loss: 0.6559 - val_accuracy: 0.7700\n",
      "Epoch 4/20\n",
      "54/54 [==============================] - 8s 147ms/step - loss: 0.0215 - accuracy: 0.9954 - val_loss: 0.5255 - val_accuracy: 0.8600\n",
      "Epoch 5/20\n",
      "54/54 [==============================] - 8s 146ms/step - loss: 0.0110 - accuracy: 1.0000 - val_loss: 0.4514 - val_accuracy: 0.8700\n",
      "Epoch 6/20\n",
      "54/54 [==============================] - 8s 144ms/step - loss: 0.0197 - accuracy: 0.9942 - val_loss: 0.4471 - val_accuracy: 0.8700\n",
      "Epoch 7/20\n",
      "54/54 [==============================] - 8s 144ms/step - loss: 0.0095 - accuracy: 0.9988 - val_loss: 0.4027 - val_accuracy: 0.8800\n",
      "Epoch 8/20\n",
      "54/54 [==============================] - 8s 143ms/step - loss: 0.0080 - accuracy: 0.9977 - val_loss: 0.3969 - val_accuracy: 0.8800\n",
      "Epoch 9/20\n",
      "54/54 [==============================] - 8s 142ms/step - loss: 0.0049 - accuracy: 0.9988 - val_loss: 0.4246 - val_accuracy: 0.8300\n",
      "Epoch 10/20\n",
      "54/54 [==============================] - 8s 143ms/step - loss: 0.0029 - accuracy: 1.0000 - val_loss: 0.3948 - val_accuracy: 0.8400\n",
      "Epoch 11/20\n",
      "54/54 [==============================] - 8s 143ms/step - loss: 0.0070 - accuracy: 0.9977 - val_loss: 0.4038 - val_accuracy: 0.8700\n",
      "Epoch 12/20\n",
      "54/54 [==============================] - 8s 143ms/step - loss: 0.0049 - accuracy: 1.0000 - val_loss: 0.4059 - val_accuracy: 0.8600\n",
      "Epoch 13/20\n",
      "54/54 [==============================] - 8s 144ms/step - loss: 0.0042 - accuracy: 0.9988 - val_loss: 0.3586 - val_accuracy: 0.8600\n",
      "Epoch 14/20\n",
      "54/54 [==============================] - 8s 144ms/step - loss: 0.0045 - accuracy: 0.9977 - val_loss: 0.3585 - val_accuracy: 0.8600\n",
      "Epoch 15/20\n",
      "54/54 [==============================] - 8s 145ms/step - loss: 0.0043 - accuracy: 0.9988 - val_loss: 0.3402 - val_accuracy: 0.8700\n",
      "Epoch 16/20\n",
      "54/54 [==============================] - 8s 145ms/step - loss: 0.0040 - accuracy: 1.0000 - val_loss: 0.3574 - val_accuracy: 0.9000\n",
      "Epoch 17/20\n",
      "54/54 [==============================] - 8s 144ms/step - loss: 0.0022 - accuracy: 1.0000 - val_loss: 0.3609 - val_accuracy: 0.9200\n",
      "Epoch 18/20\n",
      "54/54 [==============================] - 8s 144ms/step - loss: 0.0016 - accuracy: 1.0000 - val_loss: 0.3430 - val_accuracy: 0.9300\n"
     ]
    }
   ],
   "source": [
    "model2.compile(optimizer=tf.keras.optimizers.Adam(0.0001),\n",
    "                  loss='categorical_crossentropy',metrics=['accuracy'])\n",
    "es2 = tf.keras.callbacks.EarlyStopping(monitor='val_loss',patience=3,restore_best_weights=True)\n",
    "reduce_lr = tf.keras.callbacks.ReduceLROnPlateau(monitor='val_loss', factor=0.1,\n",
    "                                  patience=2, min_lr=0.0000001)\n",
    "history2 = model2.fit(train_dt1,steps_per_epoch = STEPS_PER_EPOCH,epochs =20,\n",
    "                      validation_data=val_dt1,verbose=1,callbacks=[es2], class_weight=a)"
   ]
  },
  {
   "cell_type": "code",
   "execution_count": 26,
   "id": "74daa80e-a9a9-48d9-a1b5-46316a65c55d",
   "metadata": {},
   "outputs": [
    {
     "data": {
      "image/png": "[encoded data removed]",
      "text/plain": [
       "<Figure size 432x288 with 1 Axes>"
      ]
     },
     "metadata": {
      "needs_background": "light"
     },
     "output_type": "display_data"
    }
   ],
   "source": [
    "import matplotlib.pyplot as plt\n",
    "\n",
    "plt.plot(history2.history['loss'])\n",
    "plt.plot(history2.history['val_loss'])\n",
    "plt.title('model accuracy')\n",
    "plt.ylabel('accuracy')\n",
    "plt.xlabel('epoch')\n",
    "plt.legend(['train', 'val'], loc='upper left')\n",
    "plt.show()"
   ]
  },
  {
   "cell_type": "code",
   "execution_count": 27,
   "id": "2e625932-21d3-4018-8244-ff54c5a932b9",
   "metadata": {},
   "outputs": [
    {
     "name": "stdout",
     "output_type": "stream",
     "text": [
      "781 (array([1.]), array([781])) 2 43\n"
     ]
    }
   ],
   "source": [
    "test_dt1 = data_batch(test1, cols, product = 'packages', shuffle=False, batch_size=1)"
   ]
  },
  {
   "cell_type": "code",
   "execution_count": 28,
   "id": "1f4c3b65-c2fe-44a8-a3fc-38ae8169e3a0",
   "metadata": {},
   "outputs": [
    {
     "data": {
      "text/plain": [
       "((781,), (781,))"
      ]
     },
     "execution_count": 28,
     "metadata": {},
     "output_type": "execute_result"
    }
   ],
   "source": [
    "y_pred2 = model2.predict(test_dt1)\n",
    "y_pred3 = np.argmax(y_pred2, axis=-1)\n",
    "y_true2 = np.array([int(np.argmax(y.numpy()[0], axis=-1)) for x,y in test_dt1])\n",
    "y_pred3.shape,y_true2.shape"
   ]
  },
  {
   "cell_type": "code",
   "execution_count": 30,
   "id": "d4ca275a-78fa-415f-942e-6a86847c7aa4",
   "metadata": {},
   "outputs": [
    {
     "name": "stdout",
     "output_type": "stream",
     "text": [
      "0.9694402443884369 0.9570690095538951 0.9623660236429328 0.9731113956466069\n"
     ]
    }
   ],
   "source": [
    "from sklearn.metrics import confusion_matrix,f1_score,precision_score, recall_score, accuracy_score\n",
    "\n",
    "pre = precision_score(y_true2,y_pred3, average='macro')\n",
    "rec = recall_score(y_true2,y_pred3, average='macro')\n",
    "f_score = f1_score(y_true2,y_pred3, average='macro')\n",
    "acc = accuracy_score(y_true2,y_pred3)\n",
    "print(pre, rec, f_score, acc)"
   ]
  },
  {
   "cell_type": "code",
   "execution_count": 31,
   "id": "37d15044-2da5-4fe4-8638-244a6abef227",
   "metadata": {},
   "outputs": [
    {
     "data": {
      "text/plain": [
       "array([[219,   5,   0,   0,   4,   0,   0,   0,   1],\n",
       "       [  0, 158,   0,   0,   2,   0,   0,   0,   0],\n",
       "       [  0,   0,  30,   0,   0,   0,   0,   0,   0],\n",
       "       [  0,   0,   0,  31,   1,   0,   0,   0,   0],\n",
       "       [  0,   1,   0,   0,  30,   1,   0,   1,   1],\n",
       "       [  0,   0,   0,   0,   1,  18,   0,   0,   0],\n",
       "       [  0,   0,   0,   0,   0,   0,  47,   0,   0],\n",
       "       [  0,   0,   0,   0,   0,   0,   0,  57,   0],\n",
       "       [  0,   0,   0,   0,   3,   0,   0,   0, 170]])"
      ]
     },
     "execution_count": 31,
     "metadata": {},
     "output_type": "execute_result"
    }
   ],
   "source": [
    "confusion_matrix(y_pred3,y_true2)"
   ]
  },
  {
   "cell_type": "code",
   "execution_count": 32,
   "id": "94a24c36-30b8-4331-b0c0-e8d001fd30af",
   "metadata": {},
   "outputs": [],
   "source": [
    "tf.keras.models.save_model(model2,'part2.h5')"
   ]
  },
  {
   "cell_type": "code",
   "execution_count": null,
   "id": "7093ca85-d459-4c20-8463-0f550751881d",
   "metadata": {},
   "outputs": [],
   "source": []
  }
 ],
 "metadata": {
  "environment": {
   "name": "tf2-gpu.2-6.m81",
   "type": "gcloud",
   "uri": "gcr.io/deeplearning-platform-release/tf2-gpu.2-6:m81"
  },
  "kernelspec": {
   "display_name": "Python 3",
   "language": "python",
   "name": "python3"
  },
  "language_info": {
   "codemirror_mode": {
    "name": "ipython",
    "version": 3
   },
   "file_extension": ".py",
   "mimetype": "text/x-python",
   "name": "python",
   "nbconvert_exporter": "python",
   "pygments_lexer": "ipython3",
   "version": "3.7.10"
  }
 },
 "nbformat": 4,
 "nbformat_minor": 5
}
